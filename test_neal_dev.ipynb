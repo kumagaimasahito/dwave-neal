{
  "nbformat": 4,
  "nbformat_minor": 0,
  "metadata": {
    "colab": {
      "provenance": [],
      "authorship_tag": "ABX9TyO7kpxN8coO4XFMjDaiEPEZ",
      "include_colab_link": true
    },
    "kernelspec": {
      "name": "python3",
      "display_name": "Python 3"
    },
    "language_info": {
      "name": "python"
    }
  },
  "cells": [
    {
      "cell_type": "markdown",
      "metadata": {
        "id": "view-in-github",
        "colab_type": "text"
      },
      "source": [
        "<a href=\"https://colab.research.google.com/github/kumagaimasahito/dwave-neal/blob/dev/test_neal_dev.ipynb\" target=\"_parent\"><img src=\"https://colab.research.google.com/assets/colab-badge.svg\" alt=\"Open In Colab\"/></a>"
      ]
    },
    {
      "cell_type": "code",
      "execution_count": 2,
      "metadata": {
        "colab": {
          "base_uri": "https://localhost:8080/"
        },
        "id": "Dc5Y5B0BK1GT",
        "outputId": "e3f8fb4d-eba6-44a9-971c-de863d74eb11"
      },
      "outputs": [
        {
          "output_type": "stream",
          "name": "stdout",
          "text": [
            "Collecting git+https://github.com/kumagaimasahito/dwave-neal.git@dev\n",
            "  Cloning https://github.com/kumagaimasahito/dwave-neal.git (to revision dev) to /tmp/pip-req-build-9s2w0ur2\n",
            "  Running command git clone --filter=blob:none --quiet https://github.com/kumagaimasahito/dwave-neal.git /tmp/pip-req-build-9s2w0ur2\n",
            "  Running command git checkout -b dev --track origin/dev\n",
            "  Switched to a new branch 'dev'\n",
            "  Branch 'dev' set up to track remote branch 'dev' from 'origin'.\n",
            "  Resolved https://github.com/kumagaimasahito/dwave-neal.git to commit 5917d30cce334bae173836784821246d73979366\n",
            "  Installing build dependencies ... \u001b[?25l\u001b[?25hdone\n",
            "  Getting requirements to build wheel ... \u001b[?25l\u001b[?25hdone\n",
            "  Preparing metadata (pyproject.toml) ... \u001b[?25l\u001b[?25hdone\n",
            "Collecting dimod<1.13.0,>=0.9.11 (from dwave-neal==0.5.9)\n",
            "  Downloading dimod-0.12.16-cp310-cp310-manylinux_2_17_x86_64.manylinux2014_x86_64.whl (9.0 MB)\n",
            "\u001b[2K     \u001b[90m━━━━━━━━━━━━━━━━━━━━━━━━━━━━━━━━━━━━━━━━\u001b[0m \u001b[32m9.0/9.0 MB\u001b[0m \u001b[31m26.3 MB/s\u001b[0m eta \u001b[36m0:00:00\u001b[0m\n",
            "\u001b[?25hRequirement already satisfied: numpy<2.0.0,>=1.19.1 in /usr/local/lib/python3.10/dist-packages (from dwave-neal==0.5.9) (1.25.2)\n",
            "Building wheels for collected packages: dwave-neal\n",
            "  Building wheel for dwave-neal (pyproject.toml) ... \u001b[?25l\u001b[?25hdone\n",
            "  Created wheel for dwave-neal: filename=dwave_neal-0.5.9-cp310-cp310-linux_x86_64.whl size=493275 sha256=ae0f0fbf4e9278dfdf55362b0a9df8ef13433d0f7c50bc3404e20a4127ed058c\n",
            "  Stored in directory: /tmp/pip-ephem-wheel-cache-_zzeivu4/wheels/09/71/50/f093bc925e1bee4246d77bd0996e9fc0130004590b7283b4c8\n",
            "Successfully built dwave-neal\n",
            "Installing collected packages: dimod, dwave-neal\n",
            "Successfully installed dimod-0.12.16 dwave-neal-0.5.9\n"
          ]
        }
      ],
      "source": [
        "!pip install git+https://github.com/kumagaimasahito/dwave-neal.git@dev"
      ]
    },
    {
      "cell_type": "code",
      "source": [
        "import neal\n",
        "import numpy as np\n",
        "import matplotlib.pyplot as plt"
      ],
      "metadata": {
        "id": "g_bo6FhBLRwk"
      },
      "execution_count": 3,
      "outputs": []
    },
    {
      "cell_type": "code",
      "source": [
        "sampler = neal.SimulatedAnnealingSampler()\n",
        "h = {'a': 0.0, 'b': 0.0, 'c': 0.0}\n",
        "J = {('a', 'b'): 1.0, ('b', 'c'): 1.0, ('a', 'c'): 1.0}\n",
        "sampleset = sampler.sample_ising(h, J, num_reads=1)"
      ],
      "metadata": {
        "id": "axBswWp1Lse4"
      },
      "execution_count": 4,
      "outputs": []
    },
    {
      "cell_type": "code",
      "source": [
        "sampleset.best_solution"
      ],
      "metadata": {
        "colab": {
          "base_uri": "https://localhost:8080/"
        },
        "id": "kmoFUzmJLu_1",
        "outputId": "6a064ff8-477c-42f0-c457-846988dd7a0c"
      },
      "execution_count": 5,
      "outputs": [
        {
          "output_type": "execute_result",
          "data": {
            "text/plain": [
              "{'energy': -1.0, 'state': array([-1., -1.,  1.])}"
            ]
          },
          "metadata": {},
          "execution_count": 5
        }
      ]
    },
    {
      "cell_type": "code",
      "source": [
        "print(sampleset.first.energy)\n",
        "print(sampleset.first.sample)"
      ],
      "metadata": {
        "colab": {
          "base_uri": "https://localhost:8080/"
        },
        "id": "c42vrBfVLwXq",
        "outputId": "6ae3d03b-3973-4a66-e09b-117f67395f14"
      },
      "execution_count": 7,
      "outputs": [
        {
          "output_type": "stream",
          "name": "stdout",
          "text": [
            "-1.0\n",
            "{'a': -1, 'b': 1, 'c': 1}\n"
          ]
        }
      ]
    },
    {
      "cell_type": "code",
      "source": [],
      "metadata": {
        "id": "evysvTaBL2-x"
      },
      "execution_count": null,
      "outputs": []
    }
  ]
}