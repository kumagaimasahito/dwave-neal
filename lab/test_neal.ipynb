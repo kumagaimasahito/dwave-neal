{
 "cells": [
  {
   "cell_type": "code",
   "execution_count": 1,
   "metadata": {},
   "outputs": [],
   "source": [
    "import neal"
   ]
  },
  {
   "cell_type": "code",
   "execution_count": 2,
   "metadata": {},
   "outputs": [
    {
     "ename": "KeyboardInterrupt",
     "evalue": "",
     "output_type": "error",
     "traceback": [
      "\u001b[0;31m---------------------------------------------------------------------------\u001b[0m",
      "\u001b[0;31mKeyboardInterrupt\u001b[0m                         Traceback (most recent call last)",
      "\u001b[1;32m/home/gp.sc.cc.tohoku.ac.jp/kumagai/dwave-neal/lab/test_neal.ipynb Cell 2\u001b[0m in \u001b[0;36m<cell line: 4>\u001b[0;34m()\u001b[0m\n\u001b[1;32m      <a href='vscode-notebook-cell://ssh-remote%2Baurora2/home/gp.sc.cc.tohoku.ac.jp/kumagai/dwave-neal/lab/test_neal.ipynb#W0sdnNjb2RlLXJlbW90ZQ%3D%3D?line=1'>2</a>\u001b[0m h \u001b[39m=\u001b[39m {\u001b[39m'\u001b[39m\u001b[39ma\u001b[39m\u001b[39m'\u001b[39m: \u001b[39m0.0\u001b[39m, \u001b[39m'\u001b[39m\u001b[39mb\u001b[39m\u001b[39m'\u001b[39m: \u001b[39m0.0\u001b[39m, \u001b[39m'\u001b[39m\u001b[39mc\u001b[39m\u001b[39m'\u001b[39m: \u001b[39m0.0\u001b[39m}\n\u001b[1;32m      <a href='vscode-notebook-cell://ssh-remote%2Baurora2/home/gp.sc.cc.tohoku.ac.jp/kumagai/dwave-neal/lab/test_neal.ipynb#W0sdnNjb2RlLXJlbW90ZQ%3D%3D?line=2'>3</a>\u001b[0m J \u001b[39m=\u001b[39m {(\u001b[39m'\u001b[39m\u001b[39ma\u001b[39m\u001b[39m'\u001b[39m, \u001b[39m'\u001b[39m\u001b[39mb\u001b[39m\u001b[39m'\u001b[39m): \u001b[39m1.0\u001b[39m, (\u001b[39m'\u001b[39m\u001b[39mb\u001b[39m\u001b[39m'\u001b[39m, \u001b[39m'\u001b[39m\u001b[39mc\u001b[39m\u001b[39m'\u001b[39m): \u001b[39m1.0\u001b[39m, (\u001b[39m'\u001b[39m\u001b[39ma\u001b[39m\u001b[39m'\u001b[39m, \u001b[39m'\u001b[39m\u001b[39mc\u001b[39m\u001b[39m'\u001b[39m): \u001b[39m1.0\u001b[39m}\n\u001b[0;32m----> <a href='vscode-notebook-cell://ssh-remote%2Baurora2/home/gp.sc.cc.tohoku.ac.jp/kumagai/dwave-neal/lab/test_neal.ipynb#W0sdnNjb2RlLXJlbW90ZQ%3D%3D?line=3'>4</a>\u001b[0m sampleset \u001b[39m=\u001b[39m sampler\u001b[39m.\u001b[39;49msample_ising(h, J, num_reads\u001b[39m=\u001b[39;49m\u001b[39m10\u001b[39;49m)\n\u001b[1;32m      <a href='vscode-notebook-cell://ssh-remote%2Baurora2/home/gp.sc.cc.tohoku.ac.jp/kumagai/dwave-neal/lab/test_neal.ipynb#W0sdnNjb2RlLXJlbW90ZQ%3D%3D?line=4'>5</a>\u001b[0m \u001b[39mprint\u001b[39m(sampleset\u001b[39m.\u001b[39mfirst\u001b[39m.\u001b[39menergy)\n",
      "File \u001b[0;32m~/.pyenv/versions/anaconda3-4.3.0/envs/neal/lib/python3.10/site-packages/dimod/core/sampler.py:266\u001b[0m, in \u001b[0;36mSampler.sample_ising\u001b[0;34m(self, h, J, **parameters)\u001b[0m\n\u001b[1;32m    243\u001b[0m \u001b[39m\u001b[39m\u001b[39m\"\"\"Sample from an Ising model using the implemented sample method.\u001b[39;00m\n\u001b[1;32m    244\u001b[0m \n\u001b[1;32m    245\u001b[0m \u001b[39mThis method is inherited from the :class:`.Sampler` base class.\u001b[39;00m\n\u001b[0;32m   (...)\u001b[0m\n\u001b[1;32m    263\u001b[0m \n\u001b[1;32m    264\u001b[0m \u001b[39m\"\"\"\u001b[39;00m\n\u001b[1;32m    265\u001b[0m bqm \u001b[39m=\u001b[39m BinaryQuadraticModel\u001b[39m.\u001b[39mfrom_ising(h, J)\n\u001b[0;32m--> 266\u001b[0m \u001b[39mreturn\u001b[39;00m \u001b[39mself\u001b[39;49m\u001b[39m.\u001b[39;49msample(bqm, \u001b[39m*\u001b[39;49m\u001b[39m*\u001b[39;49mparameters)\n",
      "File \u001b[0;32m~/.pyenv/versions/anaconda3-4.3.0/envs/neal/lib/python3.10/site-packages/neal/sampler.py:337\u001b[0m, in \u001b[0;36mSimulatedAnnealingSampler.sample\u001b[0;34m(self, bqm, beta_range, num_reads, num_sweeps, num_sweeps_per_beta, beta_schedule_type, seed, interrupt_function, beta_schedule, initial_states, initial_states_generator, **kwargs)\u001b[0m\n\u001b[1;32m    335\u001b[0m             \u001b[39mraise\u001b[39;00m \u001b[39mValueError\u001b[39;00m(\u001b[39m\"\u001b[39m\u001b[39mBeta schedule type \u001b[39m\u001b[39m{}\u001b[39;00m\u001b[39m not implemented\u001b[39m\u001b[39m\"\u001b[39m\u001b[39m.\u001b[39mformat(beta_schedule_type))\n\u001b[1;32m    336\u001b[0m \u001b[39m# run the simulated annealing algorithm\u001b[39;00m\n\u001b[0;32m--> 337\u001b[0m samples, energies \u001b[39m=\u001b[39m sa\u001b[39m.\u001b[39;49msimulated_annealing(\n\u001b[1;32m    338\u001b[0m     num_reads, ldata, irow, icol, qdata,\n\u001b[1;32m    339\u001b[0m     num_sweeps_per_beta, beta_schedule,\n\u001b[1;32m    340\u001b[0m     seed, initial_states_array, interrupt_function)\n\u001b[1;32m    342\u001b[0m info \u001b[39m=\u001b[39m {\n\u001b[1;32m    343\u001b[0m     \u001b[39m\"\u001b[39m\u001b[39mbeta_range\u001b[39m\u001b[39m\"\u001b[39m: beta_range,\n\u001b[1;32m    344\u001b[0m     \u001b[39m\"\u001b[39m\u001b[39mbeta_schedule_type\u001b[39m\u001b[39m\"\u001b[39m: beta_schedule_type\n\u001b[1;32m    345\u001b[0m }\n\u001b[1;32m    346\u001b[0m response \u001b[39m=\u001b[39m dimod\u001b[39m.\u001b[39mSampleSet\u001b[39m.\u001b[39mfrom_samples(\n\u001b[1;32m    347\u001b[0m     (samples, variable_order),\n\u001b[1;32m    348\u001b[0m     energy\u001b[39m=\u001b[39menergies\u001b[39m+\u001b[39mbqm\u001b[39m.\u001b[39moffset,  \u001b[39m# add back in the offset\u001b[39;00m\n\u001b[1;32m    349\u001b[0m     info\u001b[39m=\u001b[39minfo,\n\u001b[1;32m    350\u001b[0m     vartype\u001b[39m=\u001b[39mdimod\u001b[39m.\u001b[39mSPIN\n\u001b[1;32m    351\u001b[0m )\n",
      "\u001b[0;31mKeyboardInterrupt\u001b[0m: "
     ]
    }
   ],
   "source": [
    "sampler = neal.SimulatedAnnealingSampler()\n",
    "h = {'a': 0.0, 'b': 0.0, 'c': 0.0}\n",
    "J = {('a', 'b'): 1.0, ('b', 'c'): 1.0, ('a', 'c'): 1.0}\n",
    "sampleset = sampler.sample_ising(h, J, num_reads=10)\n",
    "print(sampleset.first.energy)"
   ]
  },
  {
   "cell_type": "code",
   "execution_count": null,
   "metadata": {},
   "outputs": [],
   "source": []
  }
 ],
 "metadata": {
  "kernelspec": {
   "display_name": "Python 3.6.8 64-bit",
   "language": "python",
   "name": "python3"
  },
  "language_info": {
   "codemirror_mode": {
    "name": "ipython",
    "version": 3
   },
   "file_extension": ".py",
   "mimetype": "text/x-python",
   "name": "python",
   "nbconvert_exporter": "python",
   "pygments_lexer": "ipython3",
   "version": "3.6.8"
  },
  "orig_nbformat": 4,
  "vscode": {
   "interpreter": {
    "hash": "916dbcbb3f70747c44a77c7bcd40155683ae19c65e1c03b4aa3499c5328201f1"
   }
  }
 },
 "nbformat": 4,
 "nbformat_minor": 2
}
