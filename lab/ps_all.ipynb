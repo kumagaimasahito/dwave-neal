{
 "cells": [
  {
   "cell_type": "code",
   "execution_count": 1,
   "metadata": {},
   "outputs": [],
   "source": [
    "import neal\n",
    "from utils import load_clustering_ising\n",
    "import numpy as np\n",
    "import matplotlib.pyplot as plt\n",
    "from tqdm.notebook import tqdm"
   ]
  },
  {
   "cell_type": "code",
   "execution_count": 2,
   "metadata": {},
   "outputs": [],
   "source": [
    "plt.rcParams[\"figure.figsize\"] = (6.4, 4.8)\n",
    "plt.rcParams[\"font.size\"] = 18"
   ]
  },
  {
   "cell_type": "code",
   "execution_count": 3,
   "metadata": {},
   "outputs": [],
   "source": [
    "n_clusters = 3\n",
    "n_points = 8"
   ]
  },
  {
   "cell_type": "code",
   "execution_count": 4,
   "metadata": {},
   "outputs": [],
   "source": [
    "lci = load_clustering_ising(n_clusters, n_points, random_state=52)\n",
    "Jm, hm = lci.get()"
   ]
  },
  {
   "cell_type": "code",
   "execution_count": 5,
   "metadata": {},
   "outputs": [],
   "source": [
    "sampler = neal.SimulatedAnnealingSampler()\n",
    "sampleset = sampler.sample_ising(hm, Jm, num_sweeps=10000)"
   ]
  },
  {
   "cell_type": "code",
   "execution_count": 6,
   "metadata": {},
   "outputs": [],
   "source": [
    "states = np.loadtxt(\"/home/synoarray/kumagai/dwave-neal/lab/state.txt\")\n",
    "p_flip = np.loadtxt(\"/home/synoarray/kumagai/dwave-neal/lab/p_flip.txt\")\n",
    "beta = np.loadtxt(\"/home/synoarray/kumagai/dwave-neal/lab/beta.txt\")\n",
    "\n",
    "np.save('geometric/states.npy', states)\n",
    "np.save('geometric/p_flip.npy', p_flip)\n",
    "np.save('geometric/beta.npy', beta)"
   ]
  },
  {
   "cell_type": "code",
   "execution_count": 7,
   "metadata": {},
   "outputs": [],
   "source": [
    "ens = np.array([lci.calc_en(s) for s in states])"
   ]
  },
  {
   "cell_type": "code",
   "execution_count": 8,
   "metadata": {},
   "outputs": [
    {
     "data": {
      "text/plain": [
       "True"
      ]
     },
     "execution_count": 8,
     "metadata": {},
     "output_type": "execute_result"
    }
   ],
   "source": [
    "np.any(ens<=lci.calc_ref_en())"
   ]
  },
  {
   "cell_type": "code",
   "execution_count": 9,
   "metadata": {},
   "outputs": [
    {
     "data": {
      "text/plain": [
       "-50.45018724626023"
      ]
     },
     "execution_count": 9,
     "metadata": {},
     "output_type": "execute_result"
    }
   ],
   "source": [
    "ens.min()"
   ]
  },
  {
   "cell_type": "code",
   "execution_count": 10,
   "metadata": {},
   "outputs": [
    {
     "data": {
      "text/plain": [
       "-50.45018724626023"
      ]
     },
     "execution_count": 10,
     "metadata": {},
     "output_type": "execute_result"
    }
   ],
   "source": [
    "lci.calc_ref_en()"
   ]
  },
  {
   "cell_type": "markdown",
   "metadata": {},
   "source": [
    "## $p_s$"
   ]
  },
  {
   "cell_type": "code",
   "execution_count": 11,
   "metadata": {},
   "outputs": [
    {
     "data": {
      "application/vnd.jupyter.widget-view+json": {
       "model_id": "f96ba28ed7b1429cb07eb9aec6a52cdb",
       "version_major": 2,
       "version_minor": 0
      },
      "text/plain": [
       "  0%|          | 0/100 [00:00<?, ?it/s]"
      ]
     },
     "metadata": {},
     "output_type": "display_data"
    }
   ],
   "source": [
    "cnt = 0\n",
    "for i in tqdm(range(100)):\n",
    "    sampler = neal.SimulatedAnnealingSampler()\n",
    "    sampleset = sampler.sample_ising(hm, Jm, num_sweeps=10000, num_reads=1)\n",
    "    states = np.loadtxt(\"/home/synoarray/kumagai/dwave-neal/lab/state.txt\")\n",
    "    ens = np.array([lci.calc_en(s) for s in states])\n",
    "    cnt += 1 if ens.min() <= lci.calc_ref_en() else 0\n",
    "ps = cnt / 100"
   ]
  },
  {
   "cell_type": "code",
   "execution_count": 12,
   "metadata": {},
   "outputs": [
    {
     "data": {
      "text/plain": [
       "1.0"
      ]
     },
     "execution_count": 12,
     "metadata": {},
     "output_type": "execute_result"
    }
   ],
   "source": [
    "ps"
   ]
  },
  {
   "cell_type": "code",
   "execution_count": 13,
   "metadata": {},
   "outputs": [
    {
     "data": {
      "application/vnd.jupyter.widget-view+json": {
       "model_id": "b3a567bcd41e4828a6205bfcb4fa7e33",
       "version_major": 2,
       "version_minor": 0
      },
      "text/plain": [
       "  0%|          | 0/100 [00:00<?, ?it/s]"
      ]
     },
     "metadata": {},
     "output_type": "display_data"
    }
   ],
   "source": [
    "n_points = 16\n",
    "lci = load_clustering_ising(n_clusters, n_points, random_state=52)\n",
    "Jm, hm = lci.get()\n",
    "\n",
    "cnt = 0\n",
    "for i in tqdm(range(100)):\n",
    "    sampler = neal.SimulatedAnnealingSampler()\n",
    "    sampleset = sampler.sample_ising(hm, Jm, num_sweeps=10000, num_reads=1)\n",
    "    states = np.loadtxt(\"/home/synoarray/kumagai/dwave-neal/lab/state.txt\")\n",
    "    ens = np.array([lci.calc_en(s) for s in states])\n",
    "    cnt += 1 if ens.min() <= lci.calc_ref_en() else 0\n",
    "ps = cnt / 100"
   ]
  },
  {
   "cell_type": "code",
   "execution_count": 14,
   "metadata": {},
   "outputs": [
    {
     "data": {
      "text/plain": [
       "0.07"
      ]
     },
     "execution_count": 14,
     "metadata": {},
     "output_type": "execute_result"
    }
   ],
   "source": [
    "ps"
   ]
  },
  {
   "cell_type": "code",
   "execution_count": 15,
   "metadata": {},
   "outputs": [
    {
     "data": {
      "application/vnd.jupyter.widget-view+json": {
       "model_id": "b8e29b4675b1448eba4ea31cac683477",
       "version_major": 2,
       "version_minor": 0
      },
      "text/plain": [
       "  0%|          | 0/100 [00:00<?, ?it/s]"
      ]
     },
     "metadata": {},
     "output_type": "display_data"
    }
   ],
   "source": [
    "n_points = 32\n",
    "lci = load_clustering_ising(n_clusters, n_points, random_state=52)\n",
    "Jm, hm = lci.get()\n",
    "\n",
    "cnt = 0\n",
    "for i in tqdm(range(100)):\n",
    "    sampler = neal.SimulatedAnnealingSampler()\n",
    "    sampleset = sampler.sample_ising(hm, Jm, num_sweeps=10000, num_reads=1)\n",
    "    states = np.loadtxt(\"/home/synoarray/kumagai/dwave-neal/lab/state.txt\")\n",
    "    ens = np.array([lci.calc_en(s) for s in states])\n",
    "    cnt += 1 if ens.min() <= lci.calc_ref_en() else 0\n",
    "ps = cnt / 100"
   ]
  },
  {
   "cell_type": "code",
   "execution_count": 16,
   "metadata": {},
   "outputs": [
    {
     "data": {
      "text/plain": [
       "0.0"
      ]
     },
     "execution_count": 16,
     "metadata": {},
     "output_type": "execute_result"
    }
   ],
   "source": [
    "ps"
   ]
  },
  {
   "cell_type": "code",
   "execution_count": null,
   "metadata": {},
   "outputs": [],
   "source": []
  }
 ],
 "metadata": {
  "kernelspec": {
   "display_name": "Python 3.10.11 ('neal')",
   "language": "python",
   "name": "python3"
  },
  "language_info": {
   "codemirror_mode": {
    "name": "ipython",
    "version": 3
   },
   "file_extension": ".py",
   "mimetype": "text/x-python",
   "name": "python",
   "nbconvert_exporter": "python",
   "pygments_lexer": "ipython3",
   "version": "3.10.11"
  },
  "orig_nbformat": 4,
  "vscode": {
   "interpreter": {
    "hash": "8054b537bcc1736e60178404707f95fc4232c1b2485ae76ff5c48d166f11b873"
   }
  }
 },
 "nbformat": 4,
 "nbformat_minor": 2
}
